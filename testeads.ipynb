{
 "cells": [
  {
   "attachments": {},
   "cell_type": "markdown",
   "metadata": {},
   "source": [
    "### Ex. 1"
   ]
  },
  {
   "cell_type": "code",
   "execution_count": null,
   "metadata": {},
   "outputs": [],
   "source": [
    "indice = 13\n",
    "soma = 0\n",
    "k = 0\n",
    "\n",
    "while k < indice:\n",
    "    k = k + 1\n",
    "    soma = soma + k\n",
    "\n",
    "print(soma)"
   ]
  },
  {
   "attachments": {},
   "cell_type": "markdown",
   "metadata": {},
   "source": [
    "### 2) Dado a sequência de Fibonacci, onde se inicia por 0 e 1 e o próximo valor sempre será a soma dos 2 valores anteriores \n",
    "(exemplo: 0, 1, 1, 2, 3, 5, 8, 13, 21, 34...), escreva um programa na linguagem que desejar onde, informado um número, \n",
    "ele calcule a sequência de Fibonacci e retorne uma mensagem avisando se o número informado pertence ou não a sequência. "
   ]
  },
  {
   "cell_type": "code",
   "execution_count": null,
   "metadata": {},
   "outputs": [],
   "source": [
    "number = int(input('N: '))\n",
    "\n",
    "n1 = 0\n",
    "n2 = 1\n",
    "counter = 3\n",
    "\n",
    "while counter <= number:\n",
    "    n3 = n1 + n2\n",
    "    n1 = n2\n",
    "    n2 = n3\n",
    "    counter += 1\n",
    "    print(counter, n3)"
   ]
  },
  {
   "attachments": {},
   "cell_type": "markdown",
   "metadata": {},
   "source": [
    "### 3) Dado um vetor que guarda o valor de faturamento diário de uma distribuidora, faça um programa, na linguagem que desejar, que calcule e retorne: <br>\n",
    "• O menor valor de faturamento ocorrido em um dia do mês; <br>\n",
    "• O maior valor de faturamento ocorrido em um dia do mês; <br>\n",
    "• Número de dias no mês em que o valor de faturamento diário foi superior à média mensal."
   ]
  },
  {
   "cell_type": "code",
   "execution_count": null,
   "metadata": {},
   "outputs": [],
   "source": [
    "import pandas as pd\n",
    "\n",
    "pd.options.display.float_format = '{:,.4f}'.format\n",
    "df = pd.read_json(r'C:\\Users\\annab\\Downloads\\dados.json')\n",
    "df"
   ]
  },
  {
   "cell_type": "code",
   "execution_count": null,
   "metadata": {},
   "outputs": [],
   "source": [
    "print(df[df['valor'] == 0])"
   ]
  },
  {
   "cell_type": "code",
   "execution_count": null,
   "metadata": {},
   "outputs": [],
   "source": [
    "df = df[df['valor'] > 0]"
   ]
  },
  {
   "cell_type": "markdown",
   "metadata": {},
   "source": [
    "MEDIA MENSAL"
   ]
  },
  {
   "cell_type": "code",
   "execution_count": null,
   "metadata": {},
   "outputs": [],
   "source": [
    "m = sum(df['valor']) / len(df['valor'])\n",
    "#print('{:,.4f}'.format(m))\n",
    "\n",
    "media_mensal = df['valor'].mean()\n",
    "print('A média mensal é {:,.2f}'.format(media_mensal))"
   ]
  },
  {
   "cell_type": "markdown",
   "metadata": {},
   "source": [
    "MENOR FATURAMENTO DO MÊS"
   ]
  },
  {
   "cell_type": "code",
   "execution_count": null,
   "metadata": {},
   "outputs": [],
   "source": [
    "print('O menor faturamento é {:,.4f}'.format(df['valor'].min()))"
   ]
  },
  {
   "cell_type": "markdown",
   "metadata": {},
   "source": [
    "MAIOR FATURAMENTO DO MÊS"
   ]
  },
  {
   "cell_type": "code",
   "execution_count": null,
   "metadata": {},
   "outputs": [],
   "source": [
    "print('O maior faturamento é {:,.4f}'.format(df['valor'].max()))"
   ]
  },
  {
   "cell_type": "markdown",
   "metadata": {},
   "source": [
    "FATURAMENTO ACIMA DA MÉDIA MENSAL"
   ]
  },
  {
   "cell_type": "code",
   "execution_count": null,
   "metadata": {},
   "outputs": [],
   "source": [
    "lista = []\n",
    "for item in df['valor']:\n",
    "    if item > media_mensal:\n",
    "        lista.append('{:,.2f}'.format((item)))\n",
    " \n",
    "print('Em {} dias, o faturamento diário foi acima da media mensal de {:,.2f}. \\nSendo: {}'.format(len(lista), media_mensal, lista))"
   ]
  },
  {
   "attachments": {},
   "cell_type": "markdown",
   "metadata": {},
   "source": [
    "### 4) Dado o valor de faturamento mensal de uma distribuidora, detalhado por estado:\n",
    "\n",
    "- SP – R$67.836,43\n",
    "- RJ – R$36.678,66\n",
    "- MG – R$29.229,88\n",
    "- ES – R$27.165,48\n",
    "- Outros – R$19.849,53\n",
    "\n",
    "Escreva um programa na linguagem que desejar onde calcule o percentual de representação que cada estado teve <br> \n",
    "dentro do valor total mensal da distribuidora."
   ]
  },
  {
   "cell_type": "code",
   "execution_count": null,
   "metadata": {},
   "outputs": [],
   "source": [
    "lista_estado = ['SP', 'RJ', 'MG', 'ES', 'Outros']\n",
    "lista_valor = ['67.836,43', '36.678,66', '29.229,88', '27.165,48', '19.849,53']\n",
    "zipped = zip(lista_estado, lista_valor)\n",
    "l = list(zipped)"
   ]
  },
  {
   "cell_type": "code",
   "execution_count": null,
   "metadata": {},
   "outputs": [],
   "source": [
    "lista_estado = ['SP', 'RJ', 'MG', 'ES', 'Outros']\n",
    "lista_valor = [6783643, 3667866, 2922988, 2716548, 1984953]\n",
    "zipped = zip(lista_estado, lista_valor)\n",
    "l = list(zipped)\n",
    "\n",
    "df = pd.DataFrame(l, columns={'Valor', 'Estado'})"
   ]
  },
  {
   "cell_type": "code",
   "execution_count": null,
   "metadata": {},
   "outputs": [],
   "source": [
    "total_faturamento = df['Valor'].sum()\n",
    "percent = []\n",
    "for item in df['Valor']:\n",
    "    percentual = (item / total_faturamento)\n",
    "    percent.append(f'{percentual:.2%}')"
   ]
  },
  {
   "cell_type": "code",
   "execution_count": null,
   "metadata": {},
   "outputs": [],
   "source": [
    "df['Percentual'] = percent\n",
    "df"
   ]
  },
  {
   "cell_type": "markdown",
   "metadata": {},
   "source": [
    "### 5) Escreva um programa que inverta os caracteres de um string.\n",
    "\n",
    "IMPORTANTE:\n",
    "- a) Essa string pode ser informada através de qualquer entrada de sua preferência ou pode ser previamente definida no código;\n",
    "- b) Evite usar funções prontas, como, por exemplo, reverse;"
   ]
  },
  {
   "cell_type": "code",
   "execution_count": null,
   "metadata": {},
   "outputs": [],
   "source": [
    "s = input('Insira: ') \n",
    "tamanho = len(s)\n",
    "inversa = s[tamanho :: -1]\n",
    "print (inversa)"
   ]
  }
 ],
 "metadata": {
  "kernelspec": {
   "display_name": "base",
   "language": "python",
   "name": "python3"
  },
  "language_info": {
   "codemirror_mode": {
    "name": "ipython",
    "version": 3
   },
   "file_extension": ".py",
   "mimetype": "text/x-python",
   "name": "python",
   "nbconvert_exporter": "python",
   "pygments_lexer": "ipython3",
   "version": "3.9.12"
  },
  "orig_nbformat": 4
 },
 "nbformat": 4,
 "nbformat_minor": 2
}
